{
 "cells": [
  {
   "cell_type": "markdown",
   "id": "8337724e",
   "metadata": {},
   "source": [
    "# packges"
   ]
  },
  {
   "cell_type": "code",
   "execution_count": 21,
   "id": "acfbb63d",
   "metadata": {},
   "outputs": [],
   "source": [
    "\n",
    "import pandas as pd\n",
    "import requests\n",
    "import os"
   ]
  },
  {
   "cell_type": "code",
   "execution_count": 22,
   "id": "8463bf87",
   "metadata": {},
   "outputs": [
    {
     "name": "stdout",
     "output_type": "stream",
     "text": [
      "Defaulting to user installation because normal site-packages is not writeable\n",
      "Requirement already satisfied: SybilChecks in c:\\users\\stefani.vieira\\appdata\\roaming\\python\\python39\\site-packages (0.0.6)\n"
     ]
    }
   ],
   "source": [
    "!pip install SybilChecks\n",
    "\n",
    "\n"
   ]
  },
  {
   "cell_type": "code",
   "execution_count": 23,
   "id": "b120ef72",
   "metadata": {},
   "outputs": [],
   "source": [
    "from SybilChecks import checks as c\n"
   ]
  },
  {
   "cell_type": "markdown",
   "id": "4fa7f0b8",
   "metadata": {},
   "source": [
    "# importing data"
   ]
  },
  {
   "cell_type": "code",
   "execution_count": 24,
   "id": "37ce0085",
   "metadata": {
    "scrolled": true
   },
   "outputs": [],
   "source": [
    "df = pd.read_excel('gr15_grants.xlsx')"
   ]
  },
  {
   "cell_type": "code",
   "execution_count": 26,
   "id": "4d88b3fb",
   "metadata": {},
   "outputs": [
    {
     "data": {
      "text/plain": [
       "(1503, 16)"
      ]
     },
     "execution_count": 26,
     "metadata": {},
     "output_type": "execute_result"
    }
   ],
   "source": [
    "df.shape"
   ]
  },
  {
   "cell_type": "code",
   "execution_count": 27,
   "id": "e4459079",
   "metadata": {
    "scrolled": false
   },
   "outputs": [
    {
     "data": {
      "text/plain": [
       "Index(['grant_id', 'active', 'title', 'address', 'amount_received',\n",
       "       'amount_received_in_round', 'contribution_count', 'contributor_count',\n",
       "       'description', 'website', 'github_project_url', 'twitter_handle_2',\n",
       "       'twitter_handle_1', 'twitter_verified', 'created_on', 'last_update'],\n",
       "      dtype='object')"
      ]
     },
     "execution_count": 27,
     "metadata": {},
     "output_type": "execute_result"
    }
   ],
   "source": [
    "df.columns"
   ]
  },
  {
   "cell_type": "code",
   "execution_count": 28,
   "id": "561d027d",
   "metadata": {},
   "outputs": [],
   "source": [
    "sample  = df[0:10] "
   ]
  },
  {
   "cell_type": "markdown",
   "id": "73593578",
   "metadata": {},
   "source": [
    "# Legos"
   ]
  },
  {
   "cell_type": "code",
   "execution_count": 29,
   "id": "4cd38f9b",
   "metadata": {},
   "outputs": [],
   "source": [
    "# Legos validations \n",
    "\n",
    "# website Lego \n",
    " # Todo :\n",
    " # needs to work with redirection codes 300s \n",
    "    # right now it classifies redirections as 'False' (not working), it should be able to get the redirect URL and validates it\n",
    "\n",
    "def website_validation(website):\n",
    "    website_working = []\n",
    "    website_status = requests.head(website,timeout = 4, verify = False).status_code\n",
    "    if (website_status == 200):\n",
    "        website_working.append(True)\n",
    "    else:\n",
    "        website_working.append(False)\n",
    "\n",
    "    return website_working[0]"
   ]
  },
  {
   "cell_type": "markdown",
   "id": "37e3cc28",
   "metadata": {},
   "source": [
    "# appying legos"
   ]
  },
  {
   "cell_type": "markdown",
   "id": "392592c2",
   "metadata": {},
   "source": [
    "### website validation Lego"
   ]
  },
  {
   "cell_type": "code",
   "execution_count": null,
   "id": "4427c566",
   "metadata": {},
   "outputs": [],
   "source": [
    "\n",
    "\n",
    "website_working = []\n",
    "for i in sample['website']:\n",
    "    website_working.append(website_validation(i))"
   ]
  },
  {
   "cell_type": "markdown",
   "id": "16cf5a23",
   "metadata": {},
   "source": [
    "### wallet validation Lego "
   ]
  },
  {
   "cell_type": "code",
   "execution_count": null,
   "id": "2dfcdc13",
   "metadata": {},
   "outputs": [],
   "source": [
    "# validates if wallet have been initialized ( made it first transaction during specified period)\n",
    "round_start = '2023-01-17'\n",
    "round_finish = '2023-01-31'\n",
    "api_key = '' #covalent API key \n",
    "chain_id = '1' #Etherium chain code\n",
    "first_trx_d_round = []\n",
    "\n",
    "for i in sample['address']:\n",
    "    x = c.first_trx_during_round(i, api_key, chain_id, round_start, round_finish)\n",
    "    first_trx_d_round.append(x[1])\n",
    "\n"
   ]
  },
  {
   "cell_type": "code",
   "execution_count": null,
   "id": "de777455",
   "metadata": {},
   "outputs": [],
   "source": [
    "# there is other validations on the SybilChecks package, it could study to understand its applications here "
   ]
  },
  {
   "cell_type": "markdown",
   "id": "852cadd6",
   "metadata": {},
   "source": [
    "# building results dataframe\n"
   ]
  },
  {
   "cell_type": "code",
   "execution_count": 35,
   "id": "3823be86",
   "metadata": {},
   "outputs": [
    {
     "data": {
      "text/html": [
       "<div>\n",
       "<style scoped>\n",
       "    .dataframe tbody tr th:only-of-type {\n",
       "        vertical-align: middle;\n",
       "    }\n",
       "\n",
       "    .dataframe tbody tr th {\n",
       "        vertical-align: top;\n",
       "    }\n",
       "\n",
       "    .dataframe thead th {\n",
       "        text-align: right;\n",
       "    }\n",
       "</style>\n",
       "<table border=\"1\" class=\"dataframe\">\n",
       "  <thead>\n",
       "    <tr style=\"text-align: right;\">\n",
       "      <th></th>\n",
       "      <th>wallets</th>\n",
       "      <th>first_trx_d_round</th>\n",
       "      <th>website_working</th>\n",
       "    </tr>\n",
       "  </thead>\n",
       "  <tbody>\n",
       "    <tr>\n",
       "      <th>0</th>\n",
       "      <td>0xE7048aB8dFA7F7a80d79fD6c5AcF8B0C1d174fdF</td>\n",
       "      <td>False</td>\n",
       "      <td>True</td>\n",
       "    </tr>\n",
       "    <tr>\n",
       "      <th>1</th>\n",
       "      <td>0xcC17a95B3f5861BC2cfD28ca81d611077ef36ED1</td>\n",
       "      <td>False</td>\n",
       "      <td>True</td>\n",
       "    </tr>\n",
       "    <tr>\n",
       "      <th>2</th>\n",
       "      <td>0x715465a41a34Fb1Af53328708171c0FBf2B88825</td>\n",
       "      <td>False</td>\n",
       "      <td>True</td>\n",
       "    </tr>\n",
       "    <tr>\n",
       "      <th>3</th>\n",
       "      <td>0x7ABDd18D37571e1BA884A8fA9E07a3612b584661</td>\n",
       "      <td>False</td>\n",
       "      <td>False</td>\n",
       "    </tr>\n",
       "    <tr>\n",
       "      <th>4</th>\n",
       "      <td>0xF77494B20F2DF03a7663465a001486F834739A78</td>\n",
       "      <td>False</td>\n",
       "      <td>True</td>\n",
       "    </tr>\n",
       "    <tr>\n",
       "      <th>5</th>\n",
       "      <td>0x03f142529a7B70305C07a50fAA44f6EBDADB4624</td>\n",
       "      <td>False</td>\n",
       "      <td>False</td>\n",
       "    </tr>\n",
       "    <tr>\n",
       "      <th>6</th>\n",
       "      <td>0x68895B58d148032d74322CcCE9C8740431435E0B</td>\n",
       "      <td>False</td>\n",
       "      <td>False</td>\n",
       "    </tr>\n",
       "    <tr>\n",
       "      <th>7</th>\n",
       "      <td>0xfaD124800817bE2dC09BF3a9c77BF7BE9F280626</td>\n",
       "      <td>False</td>\n",
       "      <td>True</td>\n",
       "    </tr>\n",
       "    <tr>\n",
       "      <th>8</th>\n",
       "      <td>0x226dAaeBc9d864533f8F86493225F2E3B91565A8</td>\n",
       "      <td>False</td>\n",
       "      <td>False</td>\n",
       "    </tr>\n",
       "    <tr>\n",
       "      <th>9</th>\n",
       "      <td>0xdF576d166aF1f45e4E42D1eF872b512551b6d102</td>\n",
       "      <td>False</td>\n",
       "      <td>False</td>\n",
       "    </tr>\n",
       "  </tbody>\n",
       "</table>\n",
       "</div>"
      ],
      "text/plain": [
       "                                      wallets  first_trx_d_round  \\\n",
       "0  0xE7048aB8dFA7F7a80d79fD6c5AcF8B0C1d174fdF              False   \n",
       "1  0xcC17a95B3f5861BC2cfD28ca81d611077ef36ED1              False   \n",
       "2  0x715465a41a34Fb1Af53328708171c0FBf2B88825              False   \n",
       "3  0x7ABDd18D37571e1BA884A8fA9E07a3612b584661              False   \n",
       "4  0xF77494B20F2DF03a7663465a001486F834739A78              False   \n",
       "5  0x03f142529a7B70305C07a50fAA44f6EBDADB4624              False   \n",
       "6  0x68895B58d148032d74322CcCE9C8740431435E0B              False   \n",
       "7  0xfaD124800817bE2dC09BF3a9c77BF7BE9F280626              False   \n",
       "8  0x226dAaeBc9d864533f8F86493225F2E3B91565A8              False   \n",
       "9  0xdF576d166aF1f45e4E42D1eF872b512551b6d102              False   \n",
       "\n",
       "   website_working  \n",
       "0             True  \n",
       "1             True  \n",
       "2             True  \n",
       "3            False  \n",
       "4             True  \n",
       "5            False  \n",
       "6            False  \n",
       "7             True  \n",
       "8            False  \n",
       "9            False  "
      ]
     },
     "execution_count": 35,
     "metadata": {},
     "output_type": "execute_result"
    }
   ],
   "source": [
    "\n",
    "result_df =  pd.DataFrame( data = {'wallets' :sample['address'] ,\n",
    "                                'first_trx_d_round_lego' : first_trx_d_round, \n",
    "                                'website_working_lego' : website_working})\n",
    "result_df\n"
   ]
  },
  {
   "cell_type": "code",
   "execution_count": 1,
   "id": "40f72eb4",
   "metadata": {},
   "outputs": [
    {
     "ename": "FileNotFoundError",
     "evalue": "[WinError 2] O sistema não pode encontrar o arquivo especificado: '../src/'",
     "output_type": "error",
     "traceback": [
      "\u001b[1;31m---------------------------------------------------------------------------\u001b[0m",
      "\u001b[1;31mFileNotFoundError\u001b[0m                         Traceback (most recent call last)",
      "\u001b[1;32m~\\AppData\\Local\\Temp\\ipykernel_12240\\1825780416.py\u001b[0m in \u001b[0;36m<module>\u001b[1;34m\u001b[0m\n\u001b[0;32m      1\u001b[0m \u001b[1;32mimport\u001b[0m \u001b[0mos\u001b[0m\u001b[1;33m\u001b[0m\u001b[1;33m\u001b[0m\u001b[0m\n\u001b[0;32m      2\u001b[0m \u001b[1;32mimport\u001b[0m \u001b[0mpandas\u001b[0m \u001b[1;32mas\u001b[0m \u001b[0mpd\u001b[0m\u001b[1;33m\u001b[0m\u001b[1;33m\u001b[0m\u001b[0m\n\u001b[1;32m----> 3\u001b[1;33m \u001b[0mos\u001b[0m\u001b[1;33m.\u001b[0m\u001b[0mchdir\u001b[0m\u001b[1;33m(\u001b[0m\u001b[1;34m'../src/'\u001b[0m\u001b[1;33m)\u001b[0m \u001b[1;31m#to avoid module load issues. TODO fix via module path\u001b[0m\u001b[1;33m\u001b[0m\u001b[1;33m\u001b[0m\u001b[0m\n\u001b[0m\u001b[0;32m      4\u001b[0m \u001b[1;33m\u001b[0m\u001b[0m\n\u001b[0;32m      5\u001b[0m \u001b[1;32mfrom\u001b[0m \u001b[0msrc\u001b[0m\u001b[1;33m.\u001b[0m\u001b[0mlib\u001b[0m\u001b[1;33m.\u001b[0m\u001b[0mutils\u001b[0m\u001b[1;33m.\u001b[0m\u001b[0mtwitter\u001b[0m \u001b[1;32mimport\u001b[0m \u001b[0mget_user_info\u001b[0m\u001b[1;33m\u001b[0m\u001b[1;33m\u001b[0m\u001b[0m\n",
      "\u001b[1;31mFileNotFoundError\u001b[0m: [WinError 2] O sistema não pode encontrar o arquivo especificado: '../src/'"
     ]
    }
   ],
   "source": [
    "import os\n",
    "import pandas as pd\n",
    "os.chdir('../src/') #to avoid module load issues. TODO fix via module path\n",
    "\n",
    "from src.lib.utils.twitter import get_user_info\n",
    "\n",
    "def get_grant_prj_twitter_info(x):\n",
    "\n",
    "    twitter_account = get_user_info(x['twitter_handle_1'])\n",
    "    \n",
    "    #num_tweets, created_at, followers_count\n",
    "    return x['grant_id'], x['twitter_handle_1'], twitter_account.statuses_count, twitter_account.created_at, twitter_account.followers_count\n",
    "#LOAD GRANTS\n",
    "grant_json_path = 'gr15_grants.json'\n",
    "df_grants = pd.read_json(grant_json_path).transpose()\n",
    "#GET GRANT TWITTER INFO\n",
    "grant_prj_twitter_info = df_grants.head(5).apply(lambda x: get_grant_prj_twitter_info(x), axis=1)\n",
    "df_grant_prj_twitter_info = pd.DataFrame(grant_prj_twitter_info.tolist())\n",
    "df_grant_prj_twitter_info.columns = ['grant_id', 'twitter_name', 'num_tweets', 'created_at', 'followers_count']\n",
    "df_grant_prj_twitter_info.head()"
   ]
  }
 ],
 "metadata": {
  "kernelspec": {
   "display_name": "Python 3 (ipykernel)",
   "language": "python",
   "name": "python3"
  },
  "language_info": {
   "codemirror_mode": {
    "name": "ipython",
    "version": 3
   },
   "file_extension": ".py",
   "mimetype": "text/x-python",
   "name": "python",
   "nbconvert_exporter": "python",
   "pygments_lexer": "ipython3",
   "version": "3.9.13"
  }
 },
 "nbformat": 4,
 "nbformat_minor": 5
}
